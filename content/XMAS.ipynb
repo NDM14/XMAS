{
  "metadata": {
    "kernelspec": {
      "name": "python",
      "display_name": "Python (Pyodide)",
      "language": "python"
    },
    "language_info": {
      "codemirror_mode": {
        "name": "python",
        "version": 3
      },
      "file_extension": ".py",
      "mimetype": "text/x-python",
      "name": "python",
      "nbconvert_exporter": "python",
      "pygments_lexer": "ipython3",
      "version": "3.8"
    }
  },
  "nbformat_minor": 4,
  "nbformat": 4,
  "cells": [
    {
      "cell_type": "code",
      "source": "from IPython.display import Image\nfrom helper import richtige_laenge, trenn_die_listen\nimport IPython\n\nfrom IPython.display import display, HTML\ndisplay(HTML(\"<style>div.output_scroll { height: 100%; }</style>\"))\nImage(url='https://media.tenor.com/u55PtspPVbcAAAAi/howdy-ho-folks-mr-hankey.gif')",
      "metadata": {
        "trusted": true,
        "slideshow": {
          "slide_type": ""
        },
        "deletable": false
      },
      "outputs": [
        {
          "output_type": "display_data",
          "data": {
            "text/plain": "<IPython.core.display.HTML object>",
            "text/html": "<style>div.output_scroll { height: 100%; }</style>"
          },
          "metadata": {}
        },
        {
          "execution_count": 5,
          "output_type": "execute_result",
          "data": {
            "text/html": "<img src=\"https://media.tenor.com/u55PtspPVbcAAAAi/howdy-ho-folks-mr-hankey.gif\"/>",
            "text/plain": "<IPython.core.display.Image object>"
          },
          "metadata": {}
        }
      ],
      "execution_count": 5
    },
    {
      "cell_type": "markdown",
      "source": "# __Ich bin Mr. Hanky der Weihnachtskot!__ \n\n### Eure Cousine Toni hat ein Geschenk für euch.<br>Jedoch werdet ihr dieses Geschenk nicht so leicht bekommen,<br>denn ich, Mr. Hanky der Weihnachtskot liebe es Kinder stinkig zu machen<br>und habe deswegen euer Geschenk gestohlen!\n\n### Um euer Geschenk zu bekommen müsst ihr mir erstmal zeigen was ihr drauf habt!\n\n### Unter dieser Nachricht findet ihr ein paar Kot-Rätsel!<br>Diese Rätsel gilt es zu lösen, damit ihr euer Geschenk bekommt.\n\n### Um das zu schaffen müsst ihr den Kot in die entsprechenden Zellen einfügen,<br>sodass der Kot in der Zelle ausführbar ist.<br>Eine Zelle ist eines dieser grauen Kasten, die ihr unter sehen könnt.<br>Um eine Zelle und damit den Kot auszuführen,<br>müsst ihr auf den **\"RUN\"-Button oben links** in der Ecke klicken.<br>Als Alternative könnt ihr die Tastenkombination **SHIFT-ENTER** benutzen.\n\n### Also auf gehts und viel Spaß euch beim knobeln :P\n### Und vergesst nicht Kinder: __Wer den Kot nicht eehrt, ist die Schüssel nicht wert!__\n",
      "metadata": {
        "editable": false,
        "deletable": false
      }
    },
    {
      "cell_type": "markdown",
      "source": "## __Rätsel Nummer 1:__\n\n#### Das Erste Rätsel ist ganz einfach: findet den Fehler im Kot und führt anschließend die Zelle aus, damit der Output __True__ ergibt",
      "metadata": {
        "editable": false,
        "deletable": false
      }
    },
    {
      "cell_type": "code",
      "source": "x = 10\ny = 20",
      "metadata": {
        "trusted": true,
        "editable": false,
        "deletable": false
      },
      "outputs": [],
      "execution_count": 6
    },
    {
      "cell_type": "code",
      "source": "if x*y == 30:\n    print(True)\nelse:\n    print(False)",
      "metadata": {
        "trusted": true
      },
      "outputs": [
        {
          "name": "stdout",
          "text": "False\n",
          "output_type": "stream"
        }
      ],
      "execution_count": 7
    },
    {
      "cell_type": "markdown",
      "source": "## **Rätsel Nummer 2:**\n#### Schreibt die Funktion so um, sodass die Funktion die Anzahl der Zeichen in der Nachricht zählt.<br>Wenn das Programm richtig ist wird __True__ ausgegeben.\n###### Nicht vergessen die Zelle auszuführen!",
      "metadata": {
        "editable": false,
        "deletable": false
      }
    },
    {
      "cell_type": "code",
      "source": "Nachricht = \"Koten macht spaß!\"\n\ndef string_laenge(str):\n    laenge = 0\n    \n    #TODO\n    \n    if laenge == richtige_laenge:\n        return True\n    else:\n        return False\n\nstring_laenge(Nachricht)",
      "metadata": {
        "trusted": true
      },
      "outputs": [
        {
          "execution_count": 8,
          "output_type": "execute_result",
          "data": {
            "text/plain": "False"
          },
          "metadata": {}
        }
      ],
      "execution_count": 8
    },
    {
      "cell_type": "markdown",
      "source": "## Rätsel Nummer 3:\n\n#### Schreibt die Funktion so um, dass die Liste and Zahlen in __zwei__ Listen aufgeteilt wird.<br>Die eine Liste soll alle __geraden__ Zahlen beinhalten.<br>Die andere Liste soll alle __ungeraden__ Zahlen beinhalten.\n###### Auch hier nicht vergessen die Zelle auszuführen!\n\n#### __Wenn ihr das geschafft habt, bekommt ihr euer Geschenk!!!__",
      "metadata": {
        "editable": false,
        "deletable": false
      }
    },
    {
      "cell_type": "code",
      "source": "Zahlen = [10, 3, 123, 42, 120, 6, 1897, 12, 422, 69]\n\ngerade_zahlen = []\nungerade_zahlen = []\n\n        \ntrenn_die_listen(gerade_zahlen, ungerade_zahlen)",
      "metadata": {
        "trusted": true,
        "scrolled": true
      },
      "outputs": [
        {
          "execution_count": 9,
          "output_type": "execute_result",
          "data": {
            "text/html": "<img src=\"https://media.tenor.com/UnpKBaEgD1sAAAAC/you-know-it-seems-like-something-still-not-right-kyle-broflovski.gif\"/>",
            "text/plain": "<IPython.core.display.Image object>"
          },
          "metadata": {}
        }
      ],
      "execution_count": 9
    }
  ]
}