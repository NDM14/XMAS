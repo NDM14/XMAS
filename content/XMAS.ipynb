{
  "metadata": {
    "kernelspec": {
      "name": "python",
      "display_name": "Python (Pyodide)",
      "language": "python"
    },
    "language_info": {
      "codemirror_mode": {
        "name": "python",
        "version": 3
      },
      "file_extension": ".py",
      "mimetype": "text/x-python",
      "name": "python",
      "nbconvert_exporter": "python",
      "pygments_lexer": "ipython3",
      "version": "3.8"
    }
  },
  "nbformat_minor": 4,
  "nbformat": 4,
  "cells": [
    {
      "cell_type": "code",
      "source": "from IPython.display import Image\nImage(url='https://media.tenor.com/u55PtspPVbcAAAAi/howdy-ho-folks-mr-hankey.gif')",
      "metadata": {
        "trusted": true,
        "slideshow": {
          "slide_type": ""
        },
        "jupyter": {
          "source_hidden": true
        }
      },
      "outputs": [
        {
          "execution_count": 18,
          "output_type": "execute_result",
          "data": {
            "text/html": "<img src=\"https://media.tenor.com/u55PtspPVbcAAAAi/howdy-ho-folks-mr-hankey.gif\"/>",
            "text/plain": "<IPython.core.display.Image object>"
          },
          "metadata": {}
        }
      ],
      "execution_count": 18
    },
    {
      "cell_type": "markdown",
      "source": "# __Ich bin Mr. Hanky der Weihnachtskot!__ \n\n### Eure Cousine Toni hat ein Geschenk für euch.<br>Jedoch werdet ihr dieses Geschenk nicht so leicht bekommen,<br>denn ich, Mr. Hanky der Weihnachtskot liebe es Kinder stinkig zu machen<br>und habe deswegen euer Geschenk gestohlen!\n\n### Um euer Geschenk zu bekommen müsst ihr mir erstmal zeigen was ihr drauf habt!\n\n### Unter dieser Nachricht findet ihr ein paar Kot-Rätsel!<br>Diese Rätsel gilt es zu lösen, damit ihr euer Geschenk bekommt.\n\n### Um das zu schaffen müsst ihr den Kot in die entsprechenden Zellen einfügen,<br>sodass der Kot in der Zelle ausführbar ist.<br>Eine Zelle ist eines dieser grauen Kasten, die ihr unter sehen könnt.<br>Um eine Zelle und damit den Kot auszuführen,<br>müsst ihr auf den **\"RUN\"-Button oben links** in der Ecke klicken.<br>Als Alternative könnt ihr die Tastenkombination **SHIFT-ENTER** benutzen.\n\n### Also auf gehts und viel Spaß euch beim knobeln :P\n### Und vergesst nicht Kinder: __Wer den Kot nicht eehrt, ist die Schüssel nicht wert!__\n",
      "metadata": {}
    },
    {
      "cell_type": "markdown",
      "source": "## __Rätsel Nummer 1:__\n\n#### Das Erste Rätsel ist ganz einfach: findet den Fehler im Kot und führt anschließend die Zelle aus, damit der Output __True__ ergibt",
      "metadata": {}
    },
    {
      "cell_type": "code",
      "source": "x = 10\ny = 20",
      "metadata": {
        "trusted": true,
        "editable": false
      },
      "outputs": [],
      "execution_count": 3
    },
    {
      "cell_type": "code",
      "source": "if x*y == 300:\n    print(True)\nelse:\n    print(False)",
      "metadata": {
        "trusted": true
      },
      "outputs": [
        {
          "name": "stdout",
          "text": "False\n",
          "output_type": "stream"
        }
      ],
      "execution_count": 19
    },
    {
      "cell_type": "markdown",
      "source": "## **Rätsel Nummer 2:**\n",
      "metadata": {}
    },
    {
      "cell_type": "code",
      "source": "",
      "metadata": {
        "trusted": true
      },
      "outputs": [],
      "execution_count": null
    }
  ]
}