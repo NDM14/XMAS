{
  "metadata": {
    "kernelspec": {
      "name": "python",
      "display_name": "Python (Pyodide)",
      "language": "python"
    },
    "language_info": {
      "codemirror_mode": {
        "name": "python",
        "version": 3
      },
      "file_extension": ".py",
      "mimetype": "text/x-python",
      "name": "python",
      "nbconvert_exporter": "python",
      "pygments_lexer": "ipython3",
      "version": "3.8"
    }
  },
  "nbformat_minor": 4,
  "nbformat": 4,
  "cells": [
    {
      "cell_type": "code",
      "source": "from IPython.display import Image\nfrom helper import richtige_laenge, trenn_die_listen\n\nImage(url='https://media.tenor.com/u55PtspPVbcAAAAi/howdy-ho-folks-mr-hankey.gif')\n\n",
      "metadata": {
        "trusted": true,
        "slideshow": {
          "slide_type": ""
        }
      },
      "outputs": [
        {
          "ename": "<class 'ModuleNotFoundError'>",
          "evalue": "No module named 'helper'",
          "traceback": [
            "\u001b[0;31m---------------------------------------------------------------------------\u001b[0m",
            "\u001b[0;31mModuleNotFoundError\u001b[0m                       Traceback (most recent call last)",
            "Cell \u001b[0;32mIn[14], line 2\u001b[0m\n\u001b[1;32m      1\u001b[0m \u001b[38;5;28;01mfrom\u001b[39;00m \u001b[38;5;21;01mIPython\u001b[39;00m\u001b[38;5;21;01m.\u001b[39;00m\u001b[38;5;21;01mdisplay\u001b[39;00m \u001b[38;5;28;01mimport\u001b[39;00m Image\n\u001b[0;32m----> 2\u001b[0m \u001b[38;5;28;01mfrom\u001b[39;00m \u001b[38;5;21;01mhelper\u001b[39;00m \u001b[38;5;28;01mimport\u001b[39;00m richtige_laenge, trenn_die_listen\n\u001b[1;32m      4\u001b[0m Image(url\u001b[38;5;241m=\u001b[39m\u001b[38;5;124m'\u001b[39m\u001b[38;5;124mhttps://media.tenor.com/u55PtspPVbcAAAAi/howdy-ho-folks-mr-hankey.gif\u001b[39m\u001b[38;5;124m'\u001b[39m)\n",
            "\u001b[0;31mModuleNotFoundError\u001b[0m: No module named 'helper'"
          ],
          "output_type": "error"
        }
      ],
      "execution_count": 14
    },
    {
      "cell_type": "markdown",
      "source": "# __Ich bin Mr. Hanky der Weihnachtskot!__ \n\n### Eure Cousine Toni hat ein Geschenk für euch.<br>Jedoch werdet ihr dieses Geschenk nicht so leicht bekommen,<br>denn ich, Mr. Hanky der Weihnachtskot liebe es Kinder stinkig zu machen<br>und habe deswegen euer Geschenk gestohlen!\n\n### Um euer Geschenk zu bekommen müsst ihr mir erstmal zeigen was ihr drauf habt!\n\n### Unter dieser Nachricht findet ihr ein paar Kot-Rätsel!<br>Diese Rätsel gilt es zu lösen, damit ihr euer Geschenk bekommt.\n\n### Um das zu schaffen müsst ihr den Kot in die entsprechenden Zellen einfügen,<br>sodass der Kot in der Zelle ausführbar ist.<br>Eine Zelle ist eines dieser grauen Kasten, die ihr unter sehen könnt.<br>Um eine Zelle und damit den Kot auszuführen,<br>müsst ihr auf den **\"RUN\"-Button oben links** in der Ecke klicken.<br>Als Alternative könnt ihr die Tastenkombination **SHIFT-ENTER** benutzen.\n\n### Also auf gehts und viel Spaß euch beim knobeln :P\n### Und vergesst nicht Kinder: __Wer den Kot nicht eehrt, ist die Schüssel nicht wert!__\n",
      "metadata": {}
    },
    {
      "cell_type": "markdown",
      "source": "## __Rätsel Nummer 1:__\n\n#### Das Erste Rätsel ist ganz einfach: findet den Fehler im Kot und führt anschließend die Zelle aus, damit der Output __True__ ergibt",
      "metadata": {}
    },
    {
      "cell_type": "code",
      "source": "x = 10\ny = 20",
      "metadata": {
        "trusted": true,
        "editable": false
      },
      "outputs": [],
      "execution_count": 7
    },
    {
      "cell_type": "code",
      "source": "if x*y == 30:\n    print(True)\nelse:\n    print(False)",
      "metadata": {
        "trusted": true
      },
      "outputs": [
        {
          "name": "stdout",
          "text": "False\n",
          "output_type": "stream"
        }
      ],
      "execution_count": 8
    },
    {
      "cell_type": "markdown",
      "source": "## **Rätsel Nummer 2:**\n#### Schreibt die Funktion so um, sodass die Funktion die Anzahl der Zeichen in der Nachricht zählt.<br>Wenn das Programm richtig ist wird __True__ ausgegeben.",
      "metadata": {}
    },
    {
      "cell_type": "code",
      "source": "Nachricht = \"Koten macht spaß!\"\n\ndef string_laenge(str):\n    laenge = 0\n    \n    #TODO\n    \n    if laenge == richtige_laenge:\n        return True\n    else:\n        return False\n\nstring_laenge(Nachricht)",
      "metadata": {
        "trusted": true
      },
      "outputs": [
        {
          "execution_count": 10,
          "output_type": "execute_result",
          "data": {
            "text/plain": "False"
          },
          "metadata": {}
        }
      ],
      "execution_count": 10
    },
    {
      "cell_type": "markdown",
      "source": "## Rätsel Nummer 3:\n\n#### Schreibt die Funktion so um, dass die Liste and Zahlen in __zwei__ Listen aufgeteilt wird.<br>Die eine Liste soll alle __geraden__ Zahlen beinhalten.<br>Die andere Liste soll alle __ungeraden__ Zahlen beinhalten.\n\n#### __Wenn ihr das geschafft habt, bekommt ihr euer Geschenk!!!__",
      "metadata": {}
    },
    {
      "cell_type": "code",
      "source": "Zahlen = [10, 3, 123, 42, 120, 6, 1897, 12, 422, 69]\n\ngerade_zahlen = []\nungerade_zahlen = []\n\n#TODO\n\ntrenn_die_listenS(gerade_zahlen, ungerade_zahlen)",
      "metadata": {
        "trusted": true,
        "scrolled": true
      },
      "outputs": [
        {
          "name": "stdout",
          "text": "[] []\n",
          "output_type": "stream"
        }
      ],
      "execution_count": 13
    },
    {
      "cell_type": "code",
      "source": "",
      "metadata": {
        "trusted": true
      },
      "outputs": [],
      "execution_count": null
    }
  ]
}